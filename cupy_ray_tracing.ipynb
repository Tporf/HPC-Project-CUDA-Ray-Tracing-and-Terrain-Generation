{
 "cells": [
  {
   "cell_type": "code",
   "execution_count": null,
   "id": "eddca63b",
   "metadata": {},
   "outputs": [],
   "source": [
    "import numpy as np\n",
    "import time\n",
    "import matplotlib.pyplot as plt\n",
    "import cupy as cp"
   ]
  },
  {
   "cell_type": "code",
   "execution_count": null,
   "id": "7069901d",
   "metadata": {},
   "outputs": [],
   "source": [
    "# Common scene parameters\n",
    "nx, ny = 300, 150\n",
    "aspect_ratio = nx / ny\n",
    "fov = np.pi / 3.0\n",
    "lower_left = np.array([-2.0, -1.0, -1.0])\n",
    "horizontal = np.array([4.0, 0.0, 0.0])\n",
    "vertical = np.array([0.0, 2.0, 0.0])\n",
    "origin = np.array([0.0, 0.0, 0.0])\n",
    "sphere_center = np.array([0.0, 0.0, -1.0])\n",
    "sphere_radius = 0.5\n",
    "\n",
    "def ray_color(ro, rd):\n",
    "    # ray-sphere intersection\n",
    "    oc = ro - sphere_center\n",
    "    a = np.dot(rd, rd)\n",
    "    b = np.dot(oc, rd)\n",
    "    c = np.dot(oc, oc) - sphere_radius**2\n",
    "    disc = b*b - a*c\n",
    "    if disc > 0:\n",
    "        t = (-b - np.sqrt(disc)) / a\n",
    "        if t > 0.001:\n",
    "            hit = ro + t*rd\n",
    "            normal = (hit - sphere_center) / np.linalg.norm(hit - sphere_center)\n",
    "            base = np.array([1.0, 1.0, 0.0])\n",
    "            intensity = 0.5 * (normal[1] + 1.0)\n",
    "            return intensity * base\n",
    "    # sky\n",
    "    udir = rd / np.linalg.norm(rd)\n",
    "    t = 0.5 * (udir[1] + 1.0)\n",
    "    return (1-t)*np.array([1.0,1.0,1.0]) + t*np.array([0.5,0.7,1.0])\n",
    "\n"
   ]
  },
  {
   "cell_type": "code",
   "execution_count": null,
   "id": "2b803eeb",
   "metadata": {},
   "outputs": [],
   "source": [
    "def render_cupy_vectorized():\n",
    "    # define in form of cupy arrays\n",
    "    lower_left = cp.array([-2.0, -1.0, -1.0])\n",
    "    horizontal = cp.array([4.0, 0.0, 0.0])\n",
    "    vertical = cp.array([0.0, 2.0, 0.0])\n",
    "    origin = cp.array([0.0, 0.0, 0.0])\n",
    "    sphere_center = cp.array([0.0, 0.0, -1.0])\n",
    "\n",
    "    i = cp.arange(nx).reshape(1, nx)\n",
    "    j = cp.arange(ny).reshape(ny, 1)\n",
    "    u = i / nx\n",
    "    v = j / ny\n",
    "\n",
    "    dirs = lower_left[None,None,:] + u[:,:,None]*horizontal + v[:,:,None]*vertical - origin\n",
    "    norms = cp.linalg.norm(dirs, axis=2, keepdims=True)\n",
    "    dirs = dirs / norms\n",
    "\n",
    "    # call ray_color on arrays\n",
    "    oc = origin - sphere_center\n",
    "    b = cp.sum(dirs * oc[None,None,:], axis=2)\n",
    "    c = cp.sum(oc*oc) - sphere_radius**2\n",
    "    disc = b*b - c * cp.sum(dirs*dirs, axis=2)\n",
    "    mask = disc > 0\n",
    "\n",
    "    t = (-b - cp.sqrt(disc)) / cp.sum(dirs*dirs, axis=2)\n",
    "    hit = origin + dirs * t[:,:,None]\n",
    "    normal = (hit - sphere_center) / cp.linalg.norm(hit - sphere_center, axis=2, keepdims=True)\n",
    "    base = cp.array([1.0,1.0,0.0])\n",
    "    intensity = 0.5 * (normal[:,:,1] + 1.0)\n",
    "    col_sphere = (intensity[:,:,None] * base[None,None,:])\n",
    "    udir = dirs / norms\n",
    "    t_sky = 0.5 * (udir[:,:,1] + 1.0)\n",
    "    col_sky = (1-t_sky)[:,:,None]*cp.array([1.0,1.0,1.0])[None,None,:] + t_sky[:,:,None]*cp.array([0.5,0.7,1.0])[None,None,:]\n",
    "    image = cp.where(mask[:,:,None], col_sphere, col_sky)\n",
    "    \n",
    "    return cp.asnumpy(image)"
   ]
  },
  {
   "cell_type": "code",
   "execution_count": null,
   "id": "b844ee5a",
   "metadata": {},
   "outputs": [],
   "source": [
    "times = {}\n",
    "start = time.perf_counter()\n",
    "img = render_cupy_vectorized()\n",
    "exec_time = (time.perf_counter() - start) * 1000  # ms\n",
    "print(exec_time, \"ms\")\n",
    "plt.imshow(img)\n",
    "plt.axis('off')\n",
    "plt.show()"
   ]
  }
 ],
 "metadata": {
  "language_info": {
   "name": "python"
  }
 },
 "nbformat": 4,
 "nbformat_minor": 5
}
